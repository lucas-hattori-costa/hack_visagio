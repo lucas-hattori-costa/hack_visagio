{
 "cells": [
  {
   "cell_type": "code",
   "execution_count": 2,
   "metadata": {},
   "outputs": [
    {
     "name": "stderr",
     "output_type": "stream",
     "text": [
      "C:\\Users\\Lucas\\Anaconda3\\lib\\site-packages\\statsmodels\\tools\\_testing.py:19: FutureWarning: pandas.util.testing is deprecated. Use the functions in the public API at pandas.testing instead.\n",
      "  import pandas.util.testing as tm\n"
     ]
    }
   ],
   "source": [
    "import pandas as pd\n",
    "import numpy as np\n",
    "import seaborn as sns\n",
    "import matplotlib.pyplot as plt"
   ]
  },
  {
   "cell_type": "markdown",
   "metadata": {},
   "source": [
    "## Import de dados"
   ]
  },
  {
   "cell_type": "code",
   "execution_count": 3,
   "metadata": {},
   "outputs": [],
   "source": [
    "fires = pd.read_csv('./data/database_fires.csv')"
   ]
  },
  {
   "cell_type": "code",
   "execution_count": 4,
   "metadata": {},
   "outputs": [
    {
     "data": {
      "text/html": [
       "<div>\n",
       "<style scoped>\n",
       "    .dataframe tbody tr th:only-of-type {\n",
       "        vertical-align: middle;\n",
       "    }\n",
       "\n",
       "    .dataframe tbody tr th {\n",
       "        vertical-align: top;\n",
       "    }\n",
       "\n",
       "    .dataframe thead th {\n",
       "        text-align: right;\n",
       "    }\n",
       "</style>\n",
       "<table border=\"1\" class=\"dataframe\">\n",
       "  <thead>\n",
       "    <tr style=\"text-align: right;\">\n",
       "      <th></th>\n",
       "      <th>id</th>\n",
       "      <th>estado</th>\n",
       "      <th>estacao</th>\n",
       "      <th>data</th>\n",
       "      <th>precipitacao</th>\n",
       "      <th>temp_max</th>\n",
       "      <th>temp_min</th>\n",
       "      <th>insolacao</th>\n",
       "      <th>evaporacao_piche</th>\n",
       "      <th>temp_comp_med</th>\n",
       "      <th>umidade_rel_med</th>\n",
       "      <th>vel_vento_med</th>\n",
       "      <th>altitude</th>\n",
       "      <th>fires</th>\n",
       "    </tr>\n",
       "  </thead>\n",
       "  <tbody>\n",
       "    <tr>\n",
       "      <th>0</th>\n",
       "      <td>1</td>\n",
       "      <td>AC</td>\n",
       "      <td>50484</td>\n",
       "      <td>01/01/2016</td>\n",
       "      <td>NaN</td>\n",
       "      <td>31.4</td>\n",
       "      <td>NaN</td>\n",
       "      <td>2.3</td>\n",
       "      <td>NaN</td>\n",
       "      <td>NaN</td>\n",
       "      <td>96.0</td>\n",
       "      <td>0.00000</td>\n",
       "      <td>170.0</td>\n",
       "      <td>0</td>\n",
       "    </tr>\n",
       "    <tr>\n",
       "      <th>1</th>\n",
       "      <td>2</td>\n",
       "      <td>AC</td>\n",
       "      <td>50484</td>\n",
       "      <td>02/01/2016</td>\n",
       "      <td>0.0</td>\n",
       "      <td>32.5</td>\n",
       "      <td>23.3</td>\n",
       "      <td>4.4</td>\n",
       "      <td>NaN</td>\n",
       "      <td>26.44</td>\n",
       "      <td>95.0</td>\n",
       "      <td>0.51444</td>\n",
       "      <td>170.0</td>\n",
       "      <td>0</td>\n",
       "    </tr>\n",
       "    <tr>\n",
       "      <th>2</th>\n",
       "      <td>3</td>\n",
       "      <td>AC</td>\n",
       "      <td>50484</td>\n",
       "      <td>03/01/2016</td>\n",
       "      <td>35.2</td>\n",
       "      <td>30.5</td>\n",
       "      <td>24.0</td>\n",
       "      <td>0.6</td>\n",
       "      <td>NaN</td>\n",
       "      <td>25.78</td>\n",
       "      <td>97.0</td>\n",
       "      <td>0.51444</td>\n",
       "      <td>170.0</td>\n",
       "      <td>0</td>\n",
       "    </tr>\n",
       "    <tr>\n",
       "      <th>3</th>\n",
       "      <td>4</td>\n",
       "      <td>AC</td>\n",
       "      <td>50484</td>\n",
       "      <td>04/01/2016</td>\n",
       "      <td>60.2</td>\n",
       "      <td>31.7</td>\n",
       "      <td>22.3</td>\n",
       "      <td>2.0</td>\n",
       "      <td>NaN</td>\n",
       "      <td>25.94</td>\n",
       "      <td>96.0</td>\n",
       "      <td>0.00000</td>\n",
       "      <td>170.0</td>\n",
       "      <td>0</td>\n",
       "    </tr>\n",
       "    <tr>\n",
       "      <th>4</th>\n",
       "      <td>5</td>\n",
       "      <td>AC</td>\n",
       "      <td>50484</td>\n",
       "      <td>05/01/2016</td>\n",
       "      <td>28.4</td>\n",
       "      <td>28.5</td>\n",
       "      <td>23.0</td>\n",
       "      <td>0.1</td>\n",
       "      <td>NaN</td>\n",
       "      <td>25.04</td>\n",
       "      <td>95.0</td>\n",
       "      <td>0.00000</td>\n",
       "      <td>170.0</td>\n",
       "      <td>0</td>\n",
       "    </tr>\n",
       "  </tbody>\n",
       "</table>\n",
       "</div>"
      ],
      "text/plain": [
       "   id estado  estacao        data  precipitacao  temp_max  temp_min  \\\n",
       "0   1     AC    50484  01/01/2016           NaN      31.4       NaN   \n",
       "1   2     AC    50484  02/01/2016           0.0      32.5      23.3   \n",
       "2   3     AC    50484  03/01/2016          35.2      30.5      24.0   \n",
       "3   4     AC    50484  04/01/2016          60.2      31.7      22.3   \n",
       "4   5     AC    50484  05/01/2016          28.4      28.5      23.0   \n",
       "\n",
       "   insolacao  evaporacao_piche  temp_comp_med  umidade_rel_med  vel_vento_med  \\\n",
       "0        2.3               NaN            NaN             96.0        0.00000   \n",
       "1        4.4               NaN          26.44             95.0        0.51444   \n",
       "2        0.6               NaN          25.78             97.0        0.51444   \n",
       "3        2.0               NaN          25.94             96.0        0.00000   \n",
       "4        0.1               NaN          25.04             95.0        0.00000   \n",
       "\n",
       "   altitude  fires  \n",
       "0     170.0      0  \n",
       "1     170.0      0  \n",
       "2     170.0      0  \n",
       "3     170.0      0  \n",
       "4     170.0      0  "
      ]
     },
     "execution_count": 4,
     "metadata": {},
     "output_type": "execute_result"
    }
   ],
   "source": [
    "fires.head()"
   ]
  },
  {
   "cell_type": "code",
   "execution_count": 38,
   "metadata": {},
   "outputs": [],
   "source": [
    "respostas = pd.read_csv('./data/respostas.csv')"
   ]
  },
  {
   "cell_type": "markdown",
   "metadata": {},
   "source": [
    "## Feature Engineering\n",
    "\n",
    "### Fix Feature de temperaturas"
   ]
  },
  {
   "cell_type": "code",
   "execution_count": 24,
   "metadata": {},
   "outputs": [],
   "source": [
    "# Dropar a temp_cond_media por ter alta correlacao com outras features\n",
    "\n",
    "fires = fires.drop(columns = ['temp_comp_med'])\n",
    "respostas = respostas.drop(columns = ['temp_comp_med'])\n",
    "\n",
    "# Adicionar feature de delta_temp\n",
    "\n",
    "fires['delta_temp'] = fires['temp_max'] - fires['temp_min']\n",
    "respostas['delta_temp'] = respostas['temp_max'] - respostas['temp_min']"
   ]
  },
  {
   "cell_type": "code",
   "execution_count": 26,
   "metadata": {},
   "outputs": [],
   "source": [
    "# Célula para ajustar ordem de colunas\n",
    "fires = fires[['id', 'estado', 'estacao', 'data', 'precipitacao', \n",
    "               'temp_max','temp_min', 'insolacao', 'evaporacao_piche', \n",
    "               'umidade_rel_med', 'vel_vento_med', 'altitude', 'delta_temp', 'fires']]\n",
    "\n",
    "respostas = respostas[['id', 'estado', 'estacao', 'data', 'precipitacao', \n",
    "               'temp_max','temp_min', 'insolacao', 'evaporacao_piche', \n",
    "               'umidade_rel_med', 'vel_vento_med', 'altitude', 'delta_temp']]"
   ]
  },
  {
   "cell_type": "code",
   "execution_count": 8,
   "metadata": {},
   "outputs": [
    {
     "data": {
      "text/html": [
       "<div>\n",
       "<style scoped>\n",
       "    .dataframe tbody tr th:only-of-type {\n",
       "        vertical-align: middle;\n",
       "    }\n",
       "\n",
       "    .dataframe tbody tr th {\n",
       "        vertical-align: top;\n",
       "    }\n",
       "\n",
       "    .dataframe thead th {\n",
       "        text-align: right;\n",
       "    }\n",
       "</style>\n",
       "<table border=\"1\" class=\"dataframe\">\n",
       "  <thead>\n",
       "    <tr style=\"text-align: right;\">\n",
       "      <th></th>\n",
       "      <th>id</th>\n",
       "      <th>estado</th>\n",
       "      <th>estacao</th>\n",
       "      <th>data</th>\n",
       "      <th>precipitacao</th>\n",
       "      <th>temp_max</th>\n",
       "      <th>temp_min</th>\n",
       "      <th>insolacao</th>\n",
       "      <th>evaporacao_piche</th>\n",
       "      <th>umidade_rel_med</th>\n",
       "      <th>vel_vento_med</th>\n",
       "      <th>altitude</th>\n",
       "      <th>delta_temp</th>\n",
       "      <th>fires</th>\n",
       "    </tr>\n",
       "  </thead>\n",
       "  <tbody>\n",
       "    <tr>\n",
       "      <th>0</th>\n",
       "      <td>1</td>\n",
       "      <td>AC</td>\n",
       "      <td>50484</td>\n",
       "      <td>01/01/2016</td>\n",
       "      <td>NaN</td>\n",
       "      <td>31.4</td>\n",
       "      <td>NaN</td>\n",
       "      <td>2.3</td>\n",
       "      <td>NaN</td>\n",
       "      <td>96.0</td>\n",
       "      <td>0.00000</td>\n",
       "      <td>170.0</td>\n",
       "      <td>NaN</td>\n",
       "      <td>0</td>\n",
       "    </tr>\n",
       "    <tr>\n",
       "      <th>1</th>\n",
       "      <td>2</td>\n",
       "      <td>AC</td>\n",
       "      <td>50484</td>\n",
       "      <td>02/01/2016</td>\n",
       "      <td>0.0</td>\n",
       "      <td>32.5</td>\n",
       "      <td>23.3</td>\n",
       "      <td>4.4</td>\n",
       "      <td>NaN</td>\n",
       "      <td>95.0</td>\n",
       "      <td>0.51444</td>\n",
       "      <td>170.0</td>\n",
       "      <td>9.2</td>\n",
       "      <td>0</td>\n",
       "    </tr>\n",
       "    <tr>\n",
       "      <th>2</th>\n",
       "      <td>3</td>\n",
       "      <td>AC</td>\n",
       "      <td>50484</td>\n",
       "      <td>03/01/2016</td>\n",
       "      <td>35.2</td>\n",
       "      <td>30.5</td>\n",
       "      <td>24.0</td>\n",
       "      <td>0.6</td>\n",
       "      <td>NaN</td>\n",
       "      <td>97.0</td>\n",
       "      <td>0.51444</td>\n",
       "      <td>170.0</td>\n",
       "      <td>6.5</td>\n",
       "      <td>0</td>\n",
       "    </tr>\n",
       "    <tr>\n",
       "      <th>3</th>\n",
       "      <td>4</td>\n",
       "      <td>AC</td>\n",
       "      <td>50484</td>\n",
       "      <td>04/01/2016</td>\n",
       "      <td>60.2</td>\n",
       "      <td>31.7</td>\n",
       "      <td>22.3</td>\n",
       "      <td>2.0</td>\n",
       "      <td>NaN</td>\n",
       "      <td>96.0</td>\n",
       "      <td>0.00000</td>\n",
       "      <td>170.0</td>\n",
       "      <td>9.4</td>\n",
       "      <td>0</td>\n",
       "    </tr>\n",
       "    <tr>\n",
       "      <th>4</th>\n",
       "      <td>5</td>\n",
       "      <td>AC</td>\n",
       "      <td>50484</td>\n",
       "      <td>05/01/2016</td>\n",
       "      <td>28.4</td>\n",
       "      <td>28.5</td>\n",
       "      <td>23.0</td>\n",
       "      <td>0.1</td>\n",
       "      <td>NaN</td>\n",
       "      <td>95.0</td>\n",
       "      <td>0.00000</td>\n",
       "      <td>170.0</td>\n",
       "      <td>5.5</td>\n",
       "      <td>0</td>\n",
       "    </tr>\n",
       "  </tbody>\n",
       "</table>\n",
       "</div>"
      ],
      "text/plain": [
       "   id estado  estacao        data  precipitacao  temp_max  temp_min  \\\n",
       "0   1     AC    50484  01/01/2016           NaN      31.4       NaN   \n",
       "1   2     AC    50484  02/01/2016           0.0      32.5      23.3   \n",
       "2   3     AC    50484  03/01/2016          35.2      30.5      24.0   \n",
       "3   4     AC    50484  04/01/2016          60.2      31.7      22.3   \n",
       "4   5     AC    50484  05/01/2016          28.4      28.5      23.0   \n",
       "\n",
       "   insolacao  evaporacao_piche  umidade_rel_med  vel_vento_med  altitude  \\\n",
       "0        2.3               NaN             96.0        0.00000     170.0   \n",
       "1        4.4               NaN             95.0        0.51444     170.0   \n",
       "2        0.6               NaN             97.0        0.51444     170.0   \n",
       "3        2.0               NaN             96.0        0.00000     170.0   \n",
       "4        0.1               NaN             95.0        0.00000     170.0   \n",
       "\n",
       "   delta_temp  fires  \n",
       "0         NaN      0  \n",
       "1         9.2      0  \n",
       "2         6.5      0  \n",
       "3         9.4      0  \n",
       "4         5.5      0  "
      ]
     },
     "execution_count": 8,
     "metadata": {},
     "output_type": "execute_result"
    }
   ],
   "source": [
    "fires.head()"
   ]
  },
  {
   "cell_type": "markdown",
   "metadata": {},
   "source": [
    "### Fix feature de datas\n",
    "\n",
    "Transformei a coluna de data em outras duas:\n",
    " - dia_ano: é uma coluna type Timestamp (pra ser contínuo) com dia e mês da linha mas tudo no mesmo ano para pegar efeitos de sazonalidade\n",
    " - ano: ano da linha pq pode ser que um ano seja mais propício a ter incêndios que outro"
   ]
  },
  {
   "cell_type": "code",
   "execution_count": 27,
   "metadata": {},
   "outputs": [],
   "source": [
    "fires['dia_ano'] = fires['data'].map(lambda x: pd.to_datetime(x[:-5] + '/2000', format = '%d/%m/%Y'))\n",
    "respostas['dia_ano'] = respostas['data'].map(lambda x: pd.to_datetime(x[:-5] + '/2000', format = '%d/%m/%Y'))\n",
    "\n",
    "fires['ano'] = fires['data'].map(lambda x: int(x[-4:]))\n",
    "respostas['ano'] = respostas['data'].map(lambda x: int(x[-4:]))\n",
    "\n",
    "fires = fires.drop(columns = ['data'])\n",
    "respostas = respostas.drop(columns = ['data'])"
   ]
  },
  {
   "cell_type": "code",
   "execution_count": 28,
   "metadata": {},
   "outputs": [],
   "source": [
    "# Célula para ajustar ordem de colunas\n",
    "fires = fires[['id', 'estado', 'estacao', 'precipitacao', \n",
    "               'temp_max','temp_min', 'insolacao', 'evaporacao_piche', \n",
    "               'umidade_rel_med', 'vel_vento_med', 'altitude', 'delta_temp', 'dia_ano', 'ano', 'fires']]\n",
    "\n",
    "respostas = respostas[['id', 'estado', 'estacao', 'precipitacao', \n",
    "               'temp_max','temp_min', 'insolacao', 'evaporacao_piche', \n",
    "               'umidade_rel_med', 'vel_vento_med', 'altitude', 'delta_temp', 'ano']]"
   ]
  },
  {
   "cell_type": "code",
   "execution_count": 11,
   "metadata": {},
   "outputs": [
    {
     "data": {
      "text/html": [
       "<div>\n",
       "<style scoped>\n",
       "    .dataframe tbody tr th:only-of-type {\n",
       "        vertical-align: middle;\n",
       "    }\n",
       "\n",
       "    .dataframe tbody tr th {\n",
       "        vertical-align: top;\n",
       "    }\n",
       "\n",
       "    .dataframe thead th {\n",
       "        text-align: right;\n",
       "    }\n",
       "</style>\n",
       "<table border=\"1\" class=\"dataframe\">\n",
       "  <thead>\n",
       "    <tr style=\"text-align: right;\">\n",
       "      <th></th>\n",
       "      <th>id</th>\n",
       "      <th>estado</th>\n",
       "      <th>estacao</th>\n",
       "      <th>precipitacao</th>\n",
       "      <th>temp_max</th>\n",
       "      <th>temp_min</th>\n",
       "      <th>insolacao</th>\n",
       "      <th>evaporacao_piche</th>\n",
       "      <th>umidade_rel_med</th>\n",
       "      <th>vel_vento_med</th>\n",
       "      <th>altitude</th>\n",
       "      <th>delta_temp</th>\n",
       "      <th>dia_ano</th>\n",
       "      <th>ano</th>\n",
       "      <th>fires</th>\n",
       "    </tr>\n",
       "  </thead>\n",
       "  <tbody>\n",
       "    <tr>\n",
       "      <th>0</th>\n",
       "      <td>1</td>\n",
       "      <td>AC</td>\n",
       "      <td>50484</td>\n",
       "      <td>NaN</td>\n",
       "      <td>31.4</td>\n",
       "      <td>NaN</td>\n",
       "      <td>2.3</td>\n",
       "      <td>NaN</td>\n",
       "      <td>96.0</td>\n",
       "      <td>0.00000</td>\n",
       "      <td>170.0</td>\n",
       "      <td>NaN</td>\n",
       "      <td>2000-01-01</td>\n",
       "      <td>2016</td>\n",
       "      <td>0</td>\n",
       "    </tr>\n",
       "    <tr>\n",
       "      <th>1</th>\n",
       "      <td>2</td>\n",
       "      <td>AC</td>\n",
       "      <td>50484</td>\n",
       "      <td>0.0</td>\n",
       "      <td>32.5</td>\n",
       "      <td>23.3</td>\n",
       "      <td>4.4</td>\n",
       "      <td>NaN</td>\n",
       "      <td>95.0</td>\n",
       "      <td>0.51444</td>\n",
       "      <td>170.0</td>\n",
       "      <td>9.2</td>\n",
       "      <td>2000-01-02</td>\n",
       "      <td>2016</td>\n",
       "      <td>0</td>\n",
       "    </tr>\n",
       "    <tr>\n",
       "      <th>2</th>\n",
       "      <td>3</td>\n",
       "      <td>AC</td>\n",
       "      <td>50484</td>\n",
       "      <td>35.2</td>\n",
       "      <td>30.5</td>\n",
       "      <td>24.0</td>\n",
       "      <td>0.6</td>\n",
       "      <td>NaN</td>\n",
       "      <td>97.0</td>\n",
       "      <td>0.51444</td>\n",
       "      <td>170.0</td>\n",
       "      <td>6.5</td>\n",
       "      <td>2000-01-03</td>\n",
       "      <td>2016</td>\n",
       "      <td>0</td>\n",
       "    </tr>\n",
       "    <tr>\n",
       "      <th>3</th>\n",
       "      <td>4</td>\n",
       "      <td>AC</td>\n",
       "      <td>50484</td>\n",
       "      <td>60.2</td>\n",
       "      <td>31.7</td>\n",
       "      <td>22.3</td>\n",
       "      <td>2.0</td>\n",
       "      <td>NaN</td>\n",
       "      <td>96.0</td>\n",
       "      <td>0.00000</td>\n",
       "      <td>170.0</td>\n",
       "      <td>9.4</td>\n",
       "      <td>2000-01-04</td>\n",
       "      <td>2016</td>\n",
       "      <td>0</td>\n",
       "    </tr>\n",
       "    <tr>\n",
       "      <th>4</th>\n",
       "      <td>5</td>\n",
       "      <td>AC</td>\n",
       "      <td>50484</td>\n",
       "      <td>28.4</td>\n",
       "      <td>28.5</td>\n",
       "      <td>23.0</td>\n",
       "      <td>0.1</td>\n",
       "      <td>NaN</td>\n",
       "      <td>95.0</td>\n",
       "      <td>0.00000</td>\n",
       "      <td>170.0</td>\n",
       "      <td>5.5</td>\n",
       "      <td>2000-01-05</td>\n",
       "      <td>2016</td>\n",
       "      <td>0</td>\n",
       "    </tr>\n",
       "  </tbody>\n",
       "</table>\n",
       "</div>"
      ],
      "text/plain": [
       "   id estado  estacao  precipitacao  temp_max  temp_min  insolacao  \\\n",
       "0   1     AC    50484           NaN      31.4       NaN        2.3   \n",
       "1   2     AC    50484           0.0      32.5      23.3        4.4   \n",
       "2   3     AC    50484          35.2      30.5      24.0        0.6   \n",
       "3   4     AC    50484          60.2      31.7      22.3        2.0   \n",
       "4   5     AC    50484          28.4      28.5      23.0        0.1   \n",
       "\n",
       "   evaporacao_piche  umidade_rel_med  vel_vento_med  altitude  delta_temp  \\\n",
       "0               NaN             96.0        0.00000     170.0         NaN   \n",
       "1               NaN             95.0        0.51444     170.0         9.2   \n",
       "2               NaN             97.0        0.51444     170.0         6.5   \n",
       "3               NaN             96.0        0.00000     170.0         9.4   \n",
       "4               NaN             95.0        0.00000     170.0         5.5   \n",
       "\n",
       "     dia_ano   ano  fires  \n",
       "0 2000-01-01  2016      0  \n",
       "1 2000-01-02  2016      0  \n",
       "2 2000-01-03  2016      0  \n",
       "3 2000-01-04  2016      0  \n",
       "4 2000-01-05  2016      0  "
      ]
     },
     "execution_count": 11,
     "metadata": {},
     "output_type": "execute_result"
    }
   ],
   "source": [
    "fires.head()"
   ]
  },
  {
   "cell_type": "markdown",
   "metadata": {},
   "source": [
    "### Create feature de estado\n",
    "\n",
    "Encode básico (one-hot) para a coluna de estado. Criei a feature região, que indica a macro-região a qual o estado pertence."
   ]
  },
  {
   "cell_type": "code",
   "execution_count": 29,
   "metadata": {},
   "outputs": [],
   "source": [
    "# One-hot enconde com drop_first = True para remover dependencia de variáveis\n",
    "respostas = pd.get_dummies(respostas,prefix=['estado'], drop_first=True)\n",
    "fires = pd.get_dummies(fires,prefix=['estado'], drop_first=True)"
   ]
  },
  {
   "cell_type": "code",
   "execution_count": 23,
   "metadata": {},
   "outputs": [],
   "source": [
    "# Feature região\n",
    "\n",
    "#AINDA NÃO FIZ"
   ]
  },
  {
   "cell_type": "markdown",
   "metadata": {},
   "source": [
    "### Fix (?) feature de estacao\n",
    "\n",
    "Ainda não entendi muito bem essa feature, então dropei ela"
   ]
  },
  {
   "cell_type": "code",
   "execution_count": 30,
   "metadata": {},
   "outputs": [],
   "source": [
    "fires = fires.drop(columns = ['estacao'])\n",
    "respostas = respostas.drop(columns = ['estacao'])"
   ]
  },
  {
   "cell_type": "markdown",
   "metadata": {},
   "source": [
    "## Modelagem\n",
    "\n",
    "### Modelo de ensemble de árvores usando XGBoost API"
   ]
  },
  {
   "cell_type": "code",
   "execution_count": 14,
   "metadata": {},
   "outputs": [],
   "source": [
    "from sklearn.metrics import precision_score, recall_score, accuracy_score, roc_auc_score\n",
    "import xgboost as xgb\n",
    "from sklearn.model_selection import train_test_split"
   ]
  },
  {
   "cell_type": "code",
   "execution_count": 15,
   "metadata": {},
   "outputs": [],
   "source": [
    "# Dataframe não contendo as variáveis categóricas ainda não tratadas (id, estacao, dia_ano). Dia_ano estou tendo problemas, teoricamente é numérica.\n",
    "dados_modelo = fires.drop(columns = ['id', 'dia_ano'])"
   ]
  },
  {
   "cell_type": "code",
   "execution_count": 50,
   "metadata": {},
   "outputs": [],
   "source": [
    "y = pd.DataFrame(dados_modelo['fires'])\n",
    "x = dados_modelo.drop(columns = ['fires'])"
   ]
  },
  {
   "cell_type": "code",
   "execution_count": 51,
   "metadata": {},
   "outputs": [],
   "source": [
    "X_train, X_test, Y_train, Y_test = train_test_split(x, y, test_size=0.15)"
   ]
  },
  {
   "cell_type": "code",
   "execution_count": 58,
   "metadata": {},
   "outputs": [],
   "source": [
    "param = {'eta': 0.2, \n",
    "         'max_depth': 4, 'objective': 'binary:logistic'}\n",
    "param['eval_metric'] = 'auc'\n",
    "\n",
    "steps = 30\n",
    "\n",
    "#Transformando o df em DMatrix por causa do XGBoost\n",
    "train = xgb.DMatrix(X_train, label=Y_train)\n",
    "\n",
    "model = xgb.train(param, train, steps)"
   ]
  },
  {
   "cell_type": "code",
   "execution_count": 53,
   "metadata": {},
   "outputs": [],
   "source": [
    "# Saving the current model\n",
    "model.save_model('./models/xgboost_0003.model')"
   ]
  },
  {
   "cell_type": "markdown",
   "metadata": {},
   "source": [
    "#### Evaluating the current model"
   ]
  },
  {
   "cell_type": "code",
   "execution_count": 44,
   "metadata": {},
   "outputs": [
    {
     "data": {
      "text/plain": [
       "array([0.12250785, 0.28831634, 0.11807205, ..., 0.28067452, 0.39013144,\n",
       "       0.19767644], dtype=float32)"
      ]
     },
     "execution_count": 44,
     "metadata": {},
     "output_type": "execute_result"
    }
   ],
   "source": [
    "bst = xgb.Booster({'nthread': 4})  # init model\n",
    "bst.load_model('./models/xgboost_model.bin') "
   ]
  },
  {
   "cell_type": "code",
   "execution_count": 54,
   "metadata": {},
   "outputs": [
    {
     "name": "stdout",
     "output_type": "stream",
     "text": [
      "Precision = 0.37119366626065775\n",
      "Recall = 0.5\n",
      "Accuracy = 0.7423873325213155\n",
      "AUC ROC = 0.8154517179813044\n"
     ]
    },
    {
     "name": "stderr",
     "output_type": "stream",
     "text": [
      "C:\\Users\\Lucas\\Anaconda3\\lib\\site-packages\\sklearn\\metrics\\_classification.py:1272: UndefinedMetricWarning: Precision is ill-defined and being set to 0.0 in labels with no predicted samples. Use `zero_division` parameter to control this behavior.\n",
      "  _warn_prf(average, modifier, msg_start, len(result))\n"
     ]
    }
   ],
   "source": [
    "D_test = xgb.DMatrix(X_test, label=Y_test)\n",
    "\n",
    "preds = model.predict(D_test)\n",
    "best_preds = np.asarray([np.argmax(line) for line in preds])\n",
    "\n",
    "print(\"Precision = {}\".format(precision_score(Y_test, best_preds, average='macro')))\n",
    "print(\"Recall = {}\".format(recall_score(Y_test, best_preds, average='macro')))\n",
    "print(\"Accuracy = {}\".format(accuracy_score(Y_test, best_preds)))\n",
    "print(\"AUC ROC = {}\".format(roc_auc_score(Y_test, preds)))"
   ]
  },
  {
   "cell_type": "markdown",
   "metadata": {},
   "source": [
    "#### Evaluating feature importance"
   ]
  },
  {
   "cell_type": "code",
   "execution_count": 55,
   "metadata": {},
   "outputs": [
    {
     "data": {
      "text/plain": [
       "<matplotlib.axes._subplots.AxesSubplot at 0x16922de7f48>"
      ]
     },
     "execution_count": 55,
     "metadata": {},
     "output_type": "execute_result"
    },
    {
     "data": {
      "text/plain": [
       "<Figure size 1800x1800 with 0 Axes>"
      ]
     },
     "metadata": {},
     "output_type": "display_data"
    },
    {
     "data": {
      "image/png": "[encoded data removed]",
      "text/plain": [
       "<Figure size 432x288 with 1 Axes>"
      ]
     },
     "metadata": {
      "needs_background": "light"
     },
     "output_type": "display_data"
    }
   ],
   "source": [
    "plt.figure(figsize=(25,25))\n",
    "xgb.plot_importance(model)"
   ]
  },
  {
   "cell_type": "markdown",
   "metadata": {},
   "source": [
    "### Modelo XGBoost using Scikit-learn"
   ]
  },
  {
   "cell_type": "code",
   "execution_count": 16,
   "metadata": {},
   "outputs": [],
   "source": [
    "from xgboost import XGBClassifier"
   ]
  },
  {
   "cell_type": "code",
   "execution_count": 17,
   "metadata": {},
   "outputs": [],
   "source": [
    "y = (dados_modelo['fires'])\n",
    "x = dados_modelo.drop(columns = ['fires'])"
   ]
  },
  {
   "cell_type": "code",
   "execution_count": 18,
   "metadata": {},
   "outputs": [],
   "source": [
    "X_train, X_test, Y_train, Y_test = train_test_split(x, y, test_size=0.30)"
   ]
  },
  {
   "cell_type": "code",
   "execution_count": 19,
   "metadata": {},
   "outputs": [
    {
     "name": "stdout",
     "output_type": "stream",
     "text": [
      "Wall time: 51.7 s\n"
     ]
    },
    {
     "data": {
      "text/plain": [
       "XGBClassifier(base_score=0.5, booster=None, colsample_bylevel=1,\n",
       "              colsample_bynode=1, colsample_bytree=1, gamma=0, gpu_id=-1,\n",
       "              importance_type='gain', interaction_constraints=None,\n",
       "              learning_rate=0.300000012, max_delta_step=0, max_depth=6,\n",
       "              min_child_weight=1, missing=nan, monotone_constraints=None,\n",
       "              n_estimators=100, n_jobs=0, num_parallel_tree=1,\n",
       "              objective='binary:logistic', random_state=0, reg_alpha=0,\n",
       "              reg_lambda=1, scale_pos_weight=1, subsample=1, tree_method=None,\n",
       "              validate_parameters=False, verbosity=None)"
      ]
     },
     "execution_count": 19,
     "metadata": {},
     "output_type": "execute_result"
    }
   ],
   "source": [
    "model = XGBClassifier()\n",
    "\n",
    "eval_set = [(X_train, Y_train), (X_test, Y_test)]\n",
    "eval_metric = [\"auc\",\"error\"]\n",
    "\n",
    "%time model.fit(X_train, Y_train, early_stopping_rounds = 40, eval_metric=eval_metric, eval_set=eval_set, verbose=False)"
   ]
  },
  {
   "cell_type": "code",
   "execution_count": 20,
   "metadata": {},
   "outputs": [],
   "source": [
    "y_pred = model.predict(X_test)\n",
    "round_predictions = [round(value) for value in y_pred]"
   ]
  },
  {
   "cell_type": "code",
   "execution_count": 84,
   "metadata": {},
   "outputs": [
    {
     "data": {
      "image/png": "[encoded data removed]",
      "text/plain": [
       "<Figure size 432x288 with 1 Axes>"
      ]
     },
     "metadata": {
      "needs_background": "light"
     },
     "output_type": "display_data"
    },
    {
     "data": {
      "image/png": "[encoded data removed]",
      "text/plain": [
       "<Figure size 432x288 with 1 Axes>"
      ]
     },
     "metadata": {
      "needs_background": "light"
     },
     "output_type": "display_data"
    }
   ],
   "source": [
    "results = model.evals_result()\n",
    "epochs = len(results['validation_0']['error'])\n",
    "x_axis = range(0, epochs)\n",
    "# plot classification error\n",
    "fig, ax = plt.subplots()\n",
    "ax.plot(x_axis, results['validation_0']['error'], label='Train')\n",
    "ax.plot(x_axis, results['validation_1']['error'], label='Test')\n",
    "ax.legend()\n",
    "plt.ylabel('Log Loss')\n",
    "plt.title('XGBoost Log Loss')\n",
    "plt.show()\n",
    "# plot auc curve\n",
    "fig, ax = plt.subplots()\n",
    "ax.plot(x_axis, results['validation_0']['auc'], label='Train')\n",
    "ax.plot(x_axis, results['validation_1']['auc'], label='Test')\n",
    "ax.legend()\n",
    "plt.ylabel('ROC AUC')\n",
    "plt.title('XGBoost Classification Error')\n",
    "plt.show()"
   ]
  },
  {
   "cell_type": "code",
   "execution_count": 32,
   "metadata": {},
   "outputs": [
    {
     "name": "stdout",
     "output_type": "stream",
     "text": [
      "Precision = 0.7638290533003622\n",
      "Recall = 0.6981917309363437\n",
      "Accuracy = 0.8136261932186785\n",
      "AUC ROC = 0.6981917309363436\n"
     ]
    }
   ],
   "source": [
    "print(\"Precision = {}\".format(precision_score(Y_test, round_predictions, average='macro')))\n",
    "print(\"Recall = {}\".format(recall_score(Y_test, round_predictions, average='macro')))\n",
    "print(\"Accuracy = {}\".format(accuracy_score(Y_test, round_predictions)))\n",
    "print(\"AUC ROC = {}\".format(roc_auc_score(Y_test, round_predictions)))"
   ]
  },
  {
   "cell_type": "code",
   "execution_count": 31,
   "metadata": {},
   "outputs": [
    {
     "data": {
      "text/html": [
       "<div>\n",
       "<style scoped>\n",
       "    .dataframe tbody tr th:only-of-type {\n",
       "        vertical-align: middle;\n",
       "    }\n",
       "\n",
       "    .dataframe tbody tr th {\n",
       "        vertical-align: top;\n",
       "    }\n",
       "\n",
       "    .dataframe thead th {\n",
       "        text-align: right;\n",
       "    }\n",
       "</style>\n",
       "<table border=\"1\" class=\"dataframe\">\n",
       "  <thead>\n",
       "    <tr style=\"text-align: right;\">\n",
       "      <th></th>\n",
       "      <th>id</th>\n",
       "      <th>precipitacao</th>\n",
       "      <th>temp_max</th>\n",
       "      <th>temp_min</th>\n",
       "      <th>insolacao</th>\n",
       "      <th>evaporacao_piche</th>\n",
       "      <th>umidade_rel_med</th>\n",
       "      <th>vel_vento_med</th>\n",
       "      <th>altitude</th>\n",
       "      <th>delta_temp</th>\n",
       "      <th>...</th>\n",
       "      <th>estado_PI</th>\n",
       "      <th>estado_PR</th>\n",
       "      <th>estado_RJ</th>\n",
       "      <th>estado_RN</th>\n",
       "      <th>estado_RR</th>\n",
       "      <th>estado_RS</th>\n",
       "      <th>estado_SC</th>\n",
       "      <th>estado_SE</th>\n",
       "      <th>estado_SP</th>\n",
       "      <th>estado_TO</th>\n",
       "    </tr>\n",
       "  </thead>\n",
       "  <tbody>\n",
       "    <tr>\n",
       "      <th>0</th>\n",
       "      <td>251768</td>\n",
       "      <td>5.8</td>\n",
       "      <td>34.7</td>\n",
       "      <td>23.7</td>\n",
       "      <td>8.8</td>\n",
       "      <td>NaN</td>\n",
       "      <td>92.00</td>\n",
       "      <td>1.028880</td>\n",
       "      <td>170.0</td>\n",
       "      <td>11.0</td>\n",
       "      <td>...</td>\n",
       "      <td>0</td>\n",
       "      <td>0</td>\n",
       "      <td>0</td>\n",
       "      <td>0</td>\n",
       "      <td>0</td>\n",
       "      <td>0</td>\n",
       "      <td>0</td>\n",
       "      <td>0</td>\n",
       "      <td>0</td>\n",
       "      <td>0</td>\n",
       "    </tr>\n",
       "    <tr>\n",
       "      <th>1</th>\n",
       "      <td>251769</td>\n",
       "      <td>0.0</td>\n",
       "      <td>30.0</td>\n",
       "      <td>23.7</td>\n",
       "      <td>0.2</td>\n",
       "      <td>NaN</td>\n",
       "      <td>93.00</td>\n",
       "      <td>0.000000</td>\n",
       "      <td>170.0</td>\n",
       "      <td>6.3</td>\n",
       "      <td>...</td>\n",
       "      <td>0</td>\n",
       "      <td>0</td>\n",
       "      <td>0</td>\n",
       "      <td>0</td>\n",
       "      <td>0</td>\n",
       "      <td>0</td>\n",
       "      <td>0</td>\n",
       "      <td>0</td>\n",
       "      <td>0</td>\n",
       "      <td>0</td>\n",
       "    </tr>\n",
       "    <tr>\n",
       "      <th>2</th>\n",
       "      <td>251770</td>\n",
       "      <td>0.0</td>\n",
       "      <td>35.5</td>\n",
       "      <td>24.1</td>\n",
       "      <td>7.1</td>\n",
       "      <td>NaN</td>\n",
       "      <td>97.00</td>\n",
       "      <td>0.000000</td>\n",
       "      <td>170.0</td>\n",
       "      <td>11.4</td>\n",
       "      <td>...</td>\n",
       "      <td>0</td>\n",
       "      <td>0</td>\n",
       "      <td>0</td>\n",
       "      <td>0</td>\n",
       "      <td>0</td>\n",
       "      <td>0</td>\n",
       "      <td>0</td>\n",
       "      <td>0</td>\n",
       "      <td>0</td>\n",
       "      <td>0</td>\n",
       "    </tr>\n",
       "    <tr>\n",
       "      <th>3</th>\n",
       "      <td>251771</td>\n",
       "      <td>NaN</td>\n",
       "      <td>NaN</td>\n",
       "      <td>NaN</td>\n",
       "      <td>NaN</td>\n",
       "      <td>NaN</td>\n",
       "      <td>NaN</td>\n",
       "      <td>0.000000</td>\n",
       "      <td>170.0</td>\n",
       "      <td>NaN</td>\n",
       "      <td>...</td>\n",
       "      <td>0</td>\n",
       "      <td>0</td>\n",
       "      <td>0</td>\n",
       "      <td>0</td>\n",
       "      <td>0</td>\n",
       "      <td>0</td>\n",
       "      <td>0</td>\n",
       "      <td>0</td>\n",
       "      <td>0</td>\n",
       "      <td>0</td>\n",
       "    </tr>\n",
       "    <tr>\n",
       "      <th>4</th>\n",
       "      <td>251772</td>\n",
       "      <td>0.0</td>\n",
       "      <td>34.7</td>\n",
       "      <td>21.6</td>\n",
       "      <td>8.3</td>\n",
       "      <td>2.0</td>\n",
       "      <td>86.75</td>\n",
       "      <td>0.666667</td>\n",
       "      <td>160.0</td>\n",
       "      <td>13.1</td>\n",
       "      <td>...</td>\n",
       "      <td>0</td>\n",
       "      <td>0</td>\n",
       "      <td>0</td>\n",
       "      <td>0</td>\n",
       "      <td>0</td>\n",
       "      <td>0</td>\n",
       "      <td>0</td>\n",
       "      <td>0</td>\n",
       "      <td>0</td>\n",
       "      <td>0</td>\n",
       "    </tr>\n",
       "  </tbody>\n",
       "</table>\n",
       "<p>5 rows × 36 columns</p>\n",
       "</div>"
      ],
      "text/plain": [
       "       id  precipitacao  temp_max  temp_min  insolacao  evaporacao_piche  \\\n",
       "0  251768           5.8      34.7      23.7        8.8               NaN   \n",
       "1  251769           0.0      30.0      23.7        0.2               NaN   \n",
       "2  251770           0.0      35.5      24.1        7.1               NaN   \n",
       "3  251771           NaN       NaN       NaN        NaN               NaN   \n",
       "4  251772           0.0      34.7      21.6        8.3               2.0   \n",
       "\n",
       "   umidade_rel_med  vel_vento_med  altitude  delta_temp  ...  estado_PI  \\\n",
       "0            92.00       1.028880     170.0        11.0  ...          0   \n",
       "1            93.00       0.000000     170.0         6.3  ...          0   \n",
       "2            97.00       0.000000     170.0        11.4  ...          0   \n",
       "3              NaN       0.000000     170.0         NaN  ...          0   \n",
       "4            86.75       0.666667     160.0        13.1  ...          0   \n",
       "\n",
       "   estado_PR  estado_RJ  estado_RN  estado_RR  estado_RS  estado_SC  \\\n",
       "0          0          0          0          0          0          0   \n",
       "1          0          0          0          0          0          0   \n",
       "2          0          0          0          0          0          0   \n",
       "3          0          0          0          0          0          0   \n",
       "4          0          0          0          0          0          0   \n",
       "\n",
       "   estado_SE  estado_SP  estado_TO  \n",
       "0          0          0          0  \n",
       "1          0          0          0  \n",
       "2          0          0          0  \n",
       "3          0          0          0  \n",
       "4          0          0          0  \n",
       "\n",
       "[5 rows x 36 columns]"
      ]
     },
     "execution_count": 31,
     "metadata": {},
     "output_type": "execute_result"
    }
   ],
   "source": [
    "respostas.head()"
   ]
  },
  {
   "cell_type": "code",
   "execution_count": 34,
   "metadata": {},
   "outputs": [],
   "source": [
    "respostas = respostas.drop(columns = ['id'])"
   ]
  },
  {
   "cell_type": "code",
   "execution_count": 35,
   "metadata": {},
   "outputs": [],
   "source": [
    "submission = model.predict(respostas)"
   ]
  },
  {
   "cell_type": "code",
   "execution_count": 39,
   "metadata": {},
   "outputs": [],
   "source": [
    "ids = respostas['id']"
   ]
  },
  {
   "cell_type": "code",
   "execution_count": 51,
   "metadata": {},
   "outputs": [
    {
     "data": {
      "text/plain": [
       "(44342, 1)"
      ]
     },
     "execution_count": 51,
     "metadata": {},
     "output_type": "execute_result"
    }
   ],
   "source": [
    "submission.shape"
   ]
  },
  {
   "cell_type": "code",
   "execution_count": 46,
   "metadata": {},
   "outputs": [],
   "source": [
    "submission = pd.DataFrame(submission)\n",
    "submission.columns = ['fires']"
   ]
  },
  {
   "cell_type": "code",
   "execution_count": 49,
   "metadata": {},
   "outputs": [],
   "source": [
    "(pd.merge(ids, submission, left_index = True, right_index = True)).to_csv('./submissions/sub_01.csv', index = False)"
   ]
  }
 ],
 "metadata": {
  "kernelspec": {
   "display_name": "Python 3",
   "language": "python",
   "name": "python3"
  },
  "language_info": {
   "codemirror_mode": {
    "name": "ipython",
    "version": 3
   },
   "file_extension": ".py",
   "mimetype": "text/x-python",
   "name": "python",
   "nbconvert_exporter": "python",
   "pygments_lexer": "ipython3",
   "version": "3.7.4"
  }
 },
 "nbformat": 4,
 "nbformat_minor": 4
}
